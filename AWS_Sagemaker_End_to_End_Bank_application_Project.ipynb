{
 "cells": [
  {
   "cell_type": "markdown",
   "id": "f7759ea4",
   "metadata": {},
   "source": [
    "## Steps to be Followed\n",
    "1. Importing important libraries\n",
    "2. Creating S3 bucket\n",
    "3. Mapping train And Test data in S3\n",
    "4. Mapping the path of the models in S3"
   ]
  },
  {
   "cell_type": "code",
   "execution_count": 70,
   "id": "e36a0d34",
   "metadata": {},
   "outputs": [],
   "source": [
    "import sagemaker\n",
    "import boto3 #acess the S3 bucket form local server\n",
    "from sagemaker.amazon.amazon_estimator import get_image_uri\n",
    "from sagemaker.session import s3_input, Session"
   ]
  },
  {
   "cell_type": "code",
   "execution_count": 71,
   "id": "604e6b59",
   "metadata": {},
   "outputs": [
    {
     "name": "stdout",
     "output_type": "stream",
     "text": [
      "us-east-2\n"
     ]
    }
   ],
   "source": [
    "bucket_name= \"Examplebankapplication\" \n",
    "my_region= boto3.session.Session().region_name\n",
    "print(my_region)"
   ]
  },
  {
   "cell_type": "code",
   "execution_count": 85,
   "id": "3bcf2da6",
   "metadata": {},
   "outputs": [],
   "source": [
    "from sagemaker.amazon.amazon_estimator import get_image_uri"
   ]
  },
  {
   "cell_type": "code",
   "execution_count": 72,
   "id": "379fc697",
   "metadata": {},
   "outputs": [
    {
     "name": "stdout",
     "output_type": "stream",
     "text": [
      "S3 error: 3\n"
     ]
    }
   ],
   "source": [
    "#accesing bucket\n",
    "s3= boto3.resource(\"s3\")\n",
    "try:\n",
    "    if my_region==\"us-east-2\":\n",
    "        s3.create_bucket(Bucket=bucket_name)\n",
    "    print(\"S3 bucket created successfully\")\n",
    "except Exception as e:\n",
    "    print(\"S3 error:\",3)"
   ]
  },
  {
   "cell_type": "code",
   "execution_count": null,
   "id": "dffb35ce",
   "metadata": {},
   "outputs": [],
   "source": []
  },
  {
   "cell_type": "code",
   "execution_count": 73,
   "id": "470a485d",
   "metadata": {},
   "outputs": [
    {
     "ename": "BucketAlreadyOwnedByYou",
     "evalue": "An error occurred (BucketAlreadyOwnedByYou) when calling the CreateBucket operation: Your previous request to create the named bucket succeeded and you already own it.",
     "output_type": "error",
     "traceback": [
      "\u001b[0;31m---------------------------------------------------------------------------\u001b[0m",
      "\u001b[0;31mBucketAlreadyOwnedByYou\u001b[0m                   Traceback (most recent call last)",
      "Cell \u001b[0;32mIn[73], line 3\u001b[0m\n\u001b[1;32m      1\u001b[0m \u001b[38;5;28;01mimport\u001b[39;00m \u001b[38;5;21;01mboto3\u001b[39;00m\n\u001b[1;32m      2\u001b[0m s3 \u001b[38;5;241m=\u001b[39m boto3\u001b[38;5;241m.\u001b[39mclient(\u001b[38;5;124m'\u001b[39m\u001b[38;5;124ms3\u001b[39m\u001b[38;5;124m'\u001b[39m)\n\u001b[0;32m----> 3\u001b[0m \u001b[43ms3\u001b[49m\u001b[38;5;241;43m.\u001b[39;49m\u001b[43mcreate_bucket\u001b[49m\u001b[43m(\u001b[49m\u001b[43mBucket\u001b[49m\u001b[38;5;241;43m=\u001b[39;49m\u001b[38;5;124;43m'\u001b[39;49m\u001b[38;5;124;43mexamplebankapplication\u001b[39;49m\u001b[38;5;124;43m'\u001b[39;49m\u001b[43m,\u001b[49m\u001b[43mCreateBucketConfiguration\u001b[49m\u001b[38;5;241;43m=\u001b[39;49m\u001b[43m{\u001b[49m\u001b[38;5;124;43m'\u001b[39;49m\u001b[38;5;124;43mLocationConstraint\u001b[39;49m\u001b[38;5;124;43m'\u001b[39;49m\u001b[43m:\u001b[49m\u001b[43m \u001b[49m\u001b[38;5;124;43m'\u001b[39;49m\u001b[38;5;124;43mus-east-2\u001b[39;49m\u001b[38;5;124;43m'\u001b[39;49m\u001b[43m}\u001b[49m\u001b[43m)\u001b[49m\n",
      "File \u001b[0;32m~/anaconda3/envs/python3/lib/python3.10/site-packages/botocore/client.py:553\u001b[0m, in \u001b[0;36mClientCreator._create_api_method.<locals>._api_call\u001b[0;34m(self, *args, **kwargs)\u001b[0m\n\u001b[1;32m    549\u001b[0m     \u001b[38;5;28;01mraise\u001b[39;00m \u001b[38;5;167;01mTypeError\u001b[39;00m(\n\u001b[1;32m    550\u001b[0m         \u001b[38;5;124mf\u001b[39m\u001b[38;5;124m\"\u001b[39m\u001b[38;5;132;01m{\u001b[39;00mpy_operation_name\u001b[38;5;132;01m}\u001b[39;00m\u001b[38;5;124m() only accepts keyword arguments.\u001b[39m\u001b[38;5;124m\"\u001b[39m\n\u001b[1;32m    551\u001b[0m     )\n\u001b[1;32m    552\u001b[0m \u001b[38;5;66;03m# The \"self\" in this scope is referring to the BaseClient.\u001b[39;00m\n\u001b[0;32m--> 553\u001b[0m \u001b[38;5;28;01mreturn\u001b[39;00m \u001b[38;5;28;43mself\u001b[39;49m\u001b[38;5;241;43m.\u001b[39;49m\u001b[43m_make_api_call\u001b[49m\u001b[43m(\u001b[49m\u001b[43moperation_name\u001b[49m\u001b[43m,\u001b[49m\u001b[43m \u001b[49m\u001b[43mkwargs\u001b[49m\u001b[43m)\u001b[49m\n",
      "File \u001b[0;32m~/anaconda3/envs/python3/lib/python3.10/site-packages/botocore/client.py:1009\u001b[0m, in \u001b[0;36mBaseClient._make_api_call\u001b[0;34m(self, operation_name, api_params)\u001b[0m\n\u001b[1;32m   1005\u001b[0m     error_code \u001b[38;5;241m=\u001b[39m error_info\u001b[38;5;241m.\u001b[39mget(\u001b[38;5;124m\"\u001b[39m\u001b[38;5;124mQueryErrorCode\u001b[39m\u001b[38;5;124m\"\u001b[39m) \u001b[38;5;129;01mor\u001b[39;00m error_info\u001b[38;5;241m.\u001b[39mget(\n\u001b[1;32m   1006\u001b[0m         \u001b[38;5;124m\"\u001b[39m\u001b[38;5;124mCode\u001b[39m\u001b[38;5;124m\"\u001b[39m\n\u001b[1;32m   1007\u001b[0m     )\n\u001b[1;32m   1008\u001b[0m     error_class \u001b[38;5;241m=\u001b[39m \u001b[38;5;28mself\u001b[39m\u001b[38;5;241m.\u001b[39mexceptions\u001b[38;5;241m.\u001b[39mfrom_code(error_code)\n\u001b[0;32m-> 1009\u001b[0m     \u001b[38;5;28;01mraise\u001b[39;00m error_class(parsed_response, operation_name)\n\u001b[1;32m   1010\u001b[0m \u001b[38;5;28;01melse\u001b[39;00m:\n\u001b[1;32m   1011\u001b[0m     \u001b[38;5;28;01mreturn\u001b[39;00m parsed_response\n",
      "\u001b[0;31mBucketAlreadyOwnedByYou\u001b[0m: An error occurred (BucketAlreadyOwnedByYou) when calling the CreateBucket operation: Your previous request to create the named bucket succeeded and you already own it."
     ]
    }
   ],
   "source": [
    "import boto3\n",
    "s3 = boto3.client('s3')\n",
    "s3.create_bucket(Bucket='examplebankapplication',CreateBucketConfiguration={'LocationConstraint': 'us-east-2'})"
   ]
  },
  {
   "cell_type": "markdown",
   "id": "8fa5f6c1",
   "metadata": {},
   "source": [
    "### Bucket=bucket_name use this for namimg properly bucket name as output path"
   ]
  },
  {
   "cell_type": "code",
   "execution_count": 74,
   "id": "3b93bac2",
   "metadata": {},
   "outputs": [
    {
     "name": "stdout",
     "output_type": "stream",
     "text": [
      "s3://examplebankapplication/xgboost-as-a-built-in-algo/output\n"
     ]
    }
   ],
   "source": [
    "prefix= \"xgboost-as-a-built-in-algo\"\n",
    "output_path= \"s3://{}/{}/output\".format(\"examplebankapplication\",prefix)\n",
    "print(output_path)"
   ]
  },
  {
   "cell_type": "code",
   "execution_count": 91,
   "id": "692a1930",
   "metadata": {},
   "outputs": [
    {
     "data": {
      "text/plain": [
       "'s3://examplebankapplication/xgboost-as-a-built-in-algo/output'"
      ]
     },
     "execution_count": 91,
     "metadata": {},
     "output_type": "execute_result"
    }
   ],
   "source": [
    "output_path"
   ]
  },
  {
   "cell_type": "markdown",
   "id": "91c556a9",
   "metadata": {},
   "source": [
    "### Downloading the Dataset and storing in S3"
   ]
  },
  {
   "cell_type": "code",
   "execution_count": 20,
   "id": "5198db07",
   "metadata": {},
   "outputs": [
    {
     "name": "stdout",
     "output_type": "stream",
     "text": [
      "Success: downloaded bank_clean.csv.\n",
      "success\n"
     ]
    }
   ],
   "source": [
    "import pandas as pd\n",
    "import urllib\n",
    "try:\n",
    "    urllib.request.urlretrieve (\"https://d1.awsstatic.com/tmt/build-train-deploy-machine-learning-model-sagemaker/bank_clean.27f01fbbdf43271788427f3682996ae29ceca05d.csv\", \"bank_clean.csv\")\n",
    "    print('Success: downloaded bank_clean.csv.')\n",
    "except Exception as e:\n",
    "    print('Data load error: ',e)\n",
    "    \n",
    "    \n",
    "try:\n",
    "    model_data= pd.read_csv('./bank_clean.csv',index_col=0)\n",
    "    print(\"success\")\n",
    "except Exception as e:\n",
    "    print(\"data load error\",e)"
   ]
  },
  {
   "cell_type": "code",
   "execution_count": 22,
   "id": "640f8747",
   "metadata": {},
   "outputs": [
    {
     "name": "stdout",
     "output_type": "stream",
     "text": [
      "(28831, 61) (12357, 61)\n"
     ]
    },
    {
     "name": "stderr",
     "output_type": "stream",
     "text": [
      "/home/ec2-user/anaconda3/envs/python3/lib/python3.10/site-packages/numpy/core/fromnumeric.py:57: FutureWarning: 'DataFrame.swapaxes' is deprecated and will be removed in a future version. Please use 'DataFrame.transpose' instead.\n",
      "  return bound(*args, **kwds)\n"
     ]
    }
   ],
   "source": [
    "## Train Test split\n",
    "import numpy as np\n",
    "train_data, test_data= np.split(model_data.sample(frac=1,\n",
    "    random_state=1729),[int(0.7*len(model_data))])\n",
    "print(train_data.shape,test_data.shape)"
   ]
  },
  {
   "cell_type": "code",
   "execution_count": 24,
   "id": "098fa520",
   "metadata": {},
   "outputs": [],
   "source": [
    "## Saving Train and Test data in Buckets\n",
    "## We start with train data\n",
    "## In aws sagemaker the format is to have dependent variable as first \n",
    "## and concenate other variables\n",
    "pd.concat([train_data['y_yes'],train_data.drop(['y_no','y_yes'],\n",
    "                                              axis=1)],\n",
    "         axis=1).to_csv('train_csv',index=False,header=False)"
   ]
  },
  {
   "cell_type": "code",
   "execution_count": 28,
   "id": "32a2c3c4",
   "metadata": {},
   "outputs": [],
   "source": [
    "import os"
   ]
  },
  {
   "cell_type": "markdown",
   "id": "56fc4889",
   "metadata": {},
   "source": [
    "- this Train_csv will get saved in as file in homepage now we need to take this file and upload in S3 bucket, below thats what we are doing"
   ]
  },
  {
   "cell_type": "code",
   "execution_count": 31,
   "id": "9a2e85c5",
   "metadata": {},
   "outputs": [],
   "source": [
    "boto3.Session().resource(\"s3\").Bucket(bucket_name).Object(os.path.join(prefix,'train/train_csv')).upload_file('train_csv')"
   ]
  },
  {
   "cell_type": "markdown",
   "id": "58194d71",
   "metadata": {},
   "source": [
    "- when we are going to train the model the data path will given by S3 bucket for that we have to create that path"
   ]
  },
  {
   "cell_type": "code",
   "execution_count": 32,
   "id": "1e889c22",
   "metadata": {},
   "outputs": [
    {
     "ename": "AttributeError",
     "evalue": "module 'sagemaker' has no attribute 's3_input'",
     "output_type": "error",
     "traceback": [
      "\u001b[0;31m---------------------------------------------------------------------------\u001b[0m",
      "\u001b[0;31mAttributeError\u001b[0m                            Traceback (most recent call last)",
      "Cell \u001b[0;32mIn[32], line 1\u001b[0m\n\u001b[0;32m----> 1\u001b[0m s3_input_train\u001b[38;5;241m=\u001b[39m \u001b[43msagemaker\u001b[49m\u001b[38;5;241;43m.\u001b[39;49m\u001b[43ms3_input\u001b[49m(s3_data\u001b[38;5;241m=\u001b[39m\u001b[38;5;124m'\u001b[39m\u001b[38;5;124ms3://\u001b[39m\u001b[38;5;132;01m{}\u001b[39;00m\u001b[38;5;124m/\u001b[39m\u001b[38;5;132;01m{}\u001b[39;00m\u001b[38;5;124m/train\u001b[39m\u001b[38;5;124m'\u001b[39m\n\u001b[1;32m      2\u001b[0m                                   \u001b[38;5;241m.\u001b[39mformat(bucket_name,prefix),\n\u001b[1;32m      3\u001b[0m                                   content_type\u001b[38;5;241m=\u001b[39m\u001b[38;5;124m'\u001b[39m\u001b[38;5;124mcsv\u001b[39m\u001b[38;5;124m'\u001b[39m)\n",
      "\u001b[0;31mAttributeError\u001b[0m: module 'sagemaker' has no attribute 's3_input'"
     ]
    }
   ],
   "source": []
  },
  {
   "cell_type": "code",
   "execution_count": 33,
   "id": "84c97322",
   "metadata": {},
   "outputs": [
    {
     "ename": "AttributeError",
     "evalue": "module 'sagemaker' has no attribute 's3_input'",
     "output_type": "error",
     "traceback": [
      "\u001b[0;31m---------------------------------------------------------------------------\u001b[0m",
      "\u001b[0;31mAttributeError\u001b[0m                            Traceback (most recent call last)",
      "Cell \u001b[0;32mIn[33], line 4\u001b[0m\n\u001b[1;32m      2\u001b[0m pd\u001b[38;5;241m.\u001b[39mconcat([test_data[\u001b[38;5;124m'\u001b[39m\u001b[38;5;124my_yes\u001b[39m\u001b[38;5;124m'\u001b[39m], test_data\u001b[38;5;241m.\u001b[39mdrop([\u001b[38;5;124m'\u001b[39m\u001b[38;5;124my_no\u001b[39m\u001b[38;5;124m'\u001b[39m, \u001b[38;5;124m'\u001b[39m\u001b[38;5;124my_yes\u001b[39m\u001b[38;5;124m'\u001b[39m], axis\u001b[38;5;241m=\u001b[39m\u001b[38;5;241m1\u001b[39m)], axis\u001b[38;5;241m=\u001b[39m\u001b[38;5;241m1\u001b[39m)\u001b[38;5;241m.\u001b[39mto_csv(\u001b[38;5;124m'\u001b[39m\u001b[38;5;124mtest_csv\u001b[39m\u001b[38;5;124m'\u001b[39m, index\u001b[38;5;241m=\u001b[39m\u001b[38;5;28;01mFalse\u001b[39;00m, header\u001b[38;5;241m=\u001b[39m\u001b[38;5;28;01mFalse\u001b[39;00m)\n\u001b[1;32m      3\u001b[0m boto3\u001b[38;5;241m.\u001b[39mSession()\u001b[38;5;241m.\u001b[39mresource(\u001b[38;5;124m'\u001b[39m\u001b[38;5;124ms3\u001b[39m\u001b[38;5;124m'\u001b[39m)\u001b[38;5;241m.\u001b[39mBucket(bucket_name)\u001b[38;5;241m.\u001b[39mObject(os\u001b[38;5;241m.\u001b[39mpath\u001b[38;5;241m.\u001b[39mjoin(prefix, \u001b[38;5;124m'\u001b[39m\u001b[38;5;124mtest/test_csv\u001b[39m\u001b[38;5;124m'\u001b[39m))\u001b[38;5;241m.\u001b[39mupload_file(\u001b[38;5;124m'\u001b[39m\u001b[38;5;124mtest_csv\u001b[39m\u001b[38;5;124m'\u001b[39m)\n\u001b[0;32m----> 4\u001b[0m s3_input_test \u001b[38;5;241m=\u001b[39m \u001b[43msagemaker\u001b[49m\u001b[38;5;241;43m.\u001b[39;49m\u001b[43ms3_input\u001b[49m(s3_data\u001b[38;5;241m=\u001b[39m\u001b[38;5;124m'\u001b[39m\u001b[38;5;124ms3://\u001b[39m\u001b[38;5;132;01m{}\u001b[39;00m\u001b[38;5;124m/\u001b[39m\u001b[38;5;132;01m{}\u001b[39;00m\u001b[38;5;124m/test\u001b[39m\u001b[38;5;124m'\u001b[39m\u001b[38;5;241m.\u001b[39mformat(bucket_name, prefix), content_type\u001b[38;5;241m=\u001b[39m\u001b[38;5;124m'\u001b[39m\u001b[38;5;124mcsv\u001b[39m\u001b[38;5;124m'\u001b[39m)\n",
      "\u001b[0;31mAttributeError\u001b[0m: module 'sagemaker' has no attribute 's3_input'"
     ]
    }
   ],
   "source": [
    "# Test Data Into Buckets\n",
    "pd.concat([test_data['y_yes'], test_data.drop(['y_no', 'y_yes'], axis=1)], axis=1).to_csv('test_csv', index=False, header=False)\n",
    "boto3.Session().resource('s3').Bucket(bucket_name).Object(os.path.join(prefix, 'test/test_csv')).upload_file('test_csv')\n"
   ]
  },
  {
   "cell_type": "code",
   "execution_count": 34,
   "id": "e9830474",
   "metadata": {},
   "outputs": [],
   "source": [
    "s3_input_train= sagemaker.TrainingInput(s3_data='s3://{}/{}/train'\n",
    "                                  .format(bucket_name,prefix),\n",
    "                                  content_type='csv')\n",
    "s3_input_test = sagemaker.TrainingInput(s3_data='s3://{}/{}/test'.format(bucket_name, prefix), content_type='csv')"
   ]
  },
  {
   "cell_type": "code",
   "execution_count": 93,
   "id": "d5300214",
   "metadata": {},
   "outputs": [
    {
     "data": {
      "text/plain": [
       "<sagemaker.inputs.TrainingInput at 0x7f3d9ff21a50>"
      ]
     },
     "execution_count": 93,
     "metadata": {},
     "output_type": "execute_result"
    }
   ],
   "source": [
    "s3_input_test "
   ]
  },
  {
   "cell_type": "markdown",
   "id": "060536fa",
   "metadata": {},
   "source": [
    "## Builing Models Xgboost- inbuilt Algorithm\n"
   ]
  },
  {
   "cell_type": "code",
   "execution_count": 47,
   "id": "9776425c",
   "metadata": {},
   "outputs": [],
   "source": [
    "region_name='us-east-2'"
   ]
  },
  {
   "cell_type": "code",
   "execution_count": 81,
   "id": "6f180958",
   "metadata": {},
   "outputs": [],
   "source": [
    "container = sagemaker.image_uris.retrieve(\"xgboost\", boto3.Session().region_name,version =\"latest\")"
   ]
  },
  {
   "cell_type": "code",
   "execution_count": 82,
   "id": "099c7abe",
   "metadata": {},
   "outputs": [
    {
     "data": {
      "text/plain": [
       "'825641698319.dkr.ecr.us-east-2.amazonaws.com/xgboost:latest'"
      ]
     },
     "execution_count": 82,
     "metadata": {},
     "output_type": "execute_result"
    }
   ],
   "source": [
    "container"
   ]
  },
  {
   "cell_type": "code",
   "execution_count": 83,
   "id": "96894300",
   "metadata": {},
   "outputs": [],
   "source": [
    "# initialize hyperparameters\n",
    "hyperparameters = {\n",
    "        \"max_depth\":\"5\",\n",
    "        \"eta\":\"0.2\",\n",
    "        \"gamma\":\"4\",\n",
    "        \"verbosity\":\"1\",\n",
    "        \"min_child_weight\":\"6\",\n",
    "        \"subsample\":\"0.7\",\n",
    "        \"objective\":\"binary:logistic\",\n",
    "        \"num_round\":50\n",
    "        }"
   ]
  },
  {
   "cell_type": "code",
   "execution_count": 98,
   "id": "c33a5f6c",
   "metadata": {},
   "outputs": [],
   "source": [
    "# construct a SageMaker estimator that calls the xgboost-container\n",
    "estimator = sagemaker.estimator.Estimator(image_uri=container, \n",
    "                                          hyperparameters=hyperparameters,\n",
    "                                          role=sagemaker.get_execution_role(),\n",
    "                                          instance_count=1, \n",
    "                                          instance_type='ml.m5.2xlarge', \n",
    "                                          volume_size=5, # 5 GB \n",
    "                                          output_path=output_path,\n",
    "                                          use_spot_instances=True,\n",
    "                                          max_run=300,\n",
    "                                          max_wait=600)"
   ]
  },
  {
   "cell_type": "code",
   "execution_count": 99,
   "id": "f3526bc3",
   "metadata": {},
   "outputs": [
    {
     "name": "stderr",
     "output_type": "stream",
     "text": [
      "INFO:sagemaker:Creating training-job with name: xgboost-2023-12-17-01-26-35-774\n"
     ]
    },
    {
     "name": "stdout",
     "output_type": "stream",
     "text": [
      "2023-12-17 01:26:35 Starting - Starting the training job...\n",
      "2023-12-17 01:26:50 Starting - Preparing the instances for training......\n",
      "2023-12-17 01:27:56 Downloading - Downloading input data...\n",
      "2023-12-17 01:28:26 Downloading - Downloading the training image...\n",
      "2023-12-17 01:28:42 Training - Training image download completed. Training in progress..\u001b[34mArguments: train\u001b[0m\n",
      "\u001b[34m[2023-12-17:01:29:00:INFO] Running standalone xgboost training.\u001b[0m\n",
      "\u001b[34m[2023-12-17:01:29:00:INFO] File size need to be processed in the node: 4.83mb. Available memory size in the node: 23952.12mb\u001b[0m\n",
      "\u001b[34m[2023-12-17:01:29:00:INFO] Determined delimiter of CSV input is ','\u001b[0m\n",
      "\u001b[34m[01:29:00] S3DistributionType set as FullyReplicated\u001b[0m\n",
      "\u001b[34m[01:29:00] 28831x59 matrix with 1701029 entries loaded from /opt/ml/input/data/train?format=csv&label_column=0&delimiter=,\u001b[0m\n",
      "\u001b[34m[2023-12-17:01:29:00:INFO] Determined delimiter of CSV input is ','\u001b[0m\n",
      "\u001b[34m[01:29:00] S3DistributionType set as FullyReplicated\u001b[0m\n",
      "\u001b[34m[01:29:00] 12357x59 matrix with 729063 entries loaded from /opt/ml/input/data/validation?format=csv&label_column=0&delimiter=,\u001b[0m\n",
      "\u001b[34m[01:29:00] src/tree/updater_prune.cc:74: tree pruning end, 1 roots, 36 extra nodes, 12 pruned nodes, max_depth=5\u001b[0m\n",
      "\u001b[34m[0]#011train-error:0.100933#011validation-error:0.105932\u001b[0m\n",
      "\u001b[34m[01:29:00] src/tree/updater_prune.cc:74: tree pruning end, 1 roots, 30 extra nodes, 14 pruned nodes, max_depth=5\u001b[0m\n",
      "\u001b[34m[1]#011train-error:0.099442#011validation-error:0.103747\u001b[0m\n",
      "\u001b[34m[01:29:00] src/tree/updater_prune.cc:74: tree pruning end, 1 roots, 30 extra nodes, 18 pruned nodes, max_depth=5\u001b[0m\n",
      "\u001b[34m[2]#011train-error:0.099754#011validation-error:0.103423\u001b[0m\n",
      "\u001b[34m[01:29:00] src/tree/updater_prune.cc:74: tree pruning end, 1 roots, 28 extra nodes, 14 pruned nodes, max_depth=5\u001b[0m\n",
      "\u001b[34m[3]#011train-error:0.09958#011validation-error:0.103909\u001b[0m\n",
      "\u001b[34m[01:29:00] src/tree/updater_prune.cc:74: tree pruning end, 1 roots, 28 extra nodes, 12 pruned nodes, max_depth=5\u001b[0m\n",
      "\u001b[34m[4]#011train-error:0.099338#011validation-error:0.103099\u001b[0m\n",
      "\u001b[34m[01:29:00] src/tree/updater_prune.cc:74: tree pruning end, 1 roots, 30 extra nodes, 16 pruned nodes, max_depth=5\u001b[0m\n",
      "\u001b[34m[5]#011train-error:0.099719#011validation-error:0.103099\u001b[0m\n",
      "\u001b[34m[01:29:00] src/tree/updater_prune.cc:74: tree pruning end, 1 roots, 28 extra nodes, 14 pruned nodes, max_depth=5\u001b[0m\n",
      "\u001b[34m[6]#011train-error:0.099442#011validation-error:0.102614\u001b[0m\n",
      "\u001b[34m[01:29:00] src/tree/updater_prune.cc:74: tree pruning end, 1 roots, 28 extra nodes, 20 pruned nodes, max_depth=5\u001b[0m\n",
      "\u001b[34m[7]#011train-error:0.099476#011validation-error:0.102938\u001b[0m\n",
      "\u001b[34m[01:29:00] src/tree/updater_prune.cc:74: tree pruning end, 1 roots, 24 extra nodes, 22 pruned nodes, max_depth=5\u001b[0m\n",
      "\u001b[34m[8]#011train-error:0.099338#011validation-error:0.103099\u001b[0m\n",
      "\u001b[34m[01:29:00] src/tree/updater_prune.cc:74: tree pruning end, 1 roots, 28 extra nodes, 14 pruned nodes, max_depth=5\u001b[0m\n",
      "\u001b[34m[9]#011train-error:0.099546#011validation-error:0.103019\u001b[0m\n",
      "\u001b[34m[01:29:00] src/tree/updater_prune.cc:74: tree pruning end, 1 roots, 24 extra nodes, 22 pruned nodes, max_depth=5\u001b[0m\n",
      "\u001b[34m[10]#011train-error:0.099199#011validation-error:0.102857\u001b[0m\n",
      "\u001b[34m[01:29:00] src/tree/updater_prune.cc:74: tree pruning end, 1 roots, 32 extra nodes, 18 pruned nodes, max_depth=5\u001b[0m\n",
      "\u001b[34m[11]#011train-error:0.098991#011validation-error:0.103099\u001b[0m\n",
      "\u001b[34m[01:29:00] src/tree/updater_prune.cc:74: tree pruning end, 1 roots, 24 extra nodes, 18 pruned nodes, max_depth=5\u001b[0m\n",
      "\u001b[34m[12]#011train-error:0.098991#011validation-error:0.10318\u001b[0m\n",
      "\u001b[34m[01:29:00] src/tree/updater_prune.cc:74: tree pruning end, 1 roots, 22 extra nodes, 4 pruned nodes, max_depth=5\u001b[0m\n",
      "\u001b[34m[13]#011train-error:0.099025#011validation-error:0.103261\u001b[0m\n",
      "\u001b[34m[01:29:00] src/tree/updater_prune.cc:74: tree pruning end, 1 roots, 28 extra nodes, 24 pruned nodes, max_depth=5\u001b[0m\n",
      "\u001b[34m[14]#011train-error:0.098679#011validation-error:0.103261\u001b[0m\n",
      "\u001b[34m[01:29:00] src/tree/updater_prune.cc:74: tree pruning end, 1 roots, 30 extra nodes, 20 pruned nodes, max_depth=5\u001b[0m\n",
      "\u001b[34m[15]#011train-error:0.098644#011validation-error:0.103342\u001b[0m\n",
      "\u001b[34m[01:29:00] src/tree/updater_prune.cc:74: tree pruning end, 1 roots, 16 extra nodes, 22 pruned nodes, max_depth=5\u001b[0m\n",
      "\u001b[34m[16]#011train-error:0.098644#011validation-error:0.103504\u001b[0m\n",
      "\u001b[34m[01:29:01] src/tree/updater_prune.cc:74: tree pruning end, 1 roots, 24 extra nodes, 20 pruned nodes, max_depth=5\u001b[0m\n",
      "\u001b[34m[17]#011train-error:0.098679#011validation-error:0.103666\u001b[0m\n",
      "\u001b[34m[01:29:01] src/tree/updater_prune.cc:74: tree pruning end, 1 roots, 24 extra nodes, 14 pruned nodes, max_depth=5\u001b[0m\n",
      "\u001b[34m[18]#011train-error:0.09847#011validation-error:0.103423\u001b[0m\n",
      "\u001b[34m[01:29:01] src/tree/updater_prune.cc:74: tree pruning end, 1 roots, 26 extra nodes, 14 pruned nodes, max_depth=5\u001b[0m\n",
      "\u001b[34m[19]#011train-error:0.098401#011validation-error:0.104071\u001b[0m\n",
      "\u001b[34m[01:29:01] src/tree/updater_prune.cc:74: tree pruning end, 1 roots, 30 extra nodes, 18 pruned nodes, max_depth=5\u001b[0m\n",
      "\u001b[34m[20]#011train-error:0.098297#011validation-error:0.103909\u001b[0m\n",
      "\u001b[34m[01:29:01] src/tree/updater_prune.cc:74: tree pruning end, 1 roots, 24 extra nodes, 14 pruned nodes, max_depth=5\u001b[0m\n",
      "\u001b[34m[21]#011train-error:0.098332#011validation-error:0.104475\u001b[0m\n",
      "\u001b[34m[01:29:01] src/tree/updater_prune.cc:74: tree pruning end, 1 roots, 34 extra nodes, 12 pruned nodes, max_depth=5\u001b[0m\n",
      "\u001b[34m[22]#011train-error:0.09854#011validation-error:0.104313\u001b[0m\n",
      "\u001b[34m[01:29:01] src/tree/updater_prune.cc:74: tree pruning end, 1 roots, 22 extra nodes, 10 pruned nodes, max_depth=5\u001b[0m\n",
      "\u001b[34m[23]#011train-error:0.098332#011validation-error:0.104637\u001b[0m\n",
      "\u001b[34m[01:29:01] src/tree/updater_prune.cc:74: tree pruning end, 1 roots, 18 extra nodes, 28 pruned nodes, max_depth=5\u001b[0m\n",
      "\u001b[34m[24]#011train-error:0.098297#011validation-error:0.104718\u001b[0m\n",
      "\u001b[34m[01:29:01] src/tree/updater_prune.cc:74: tree pruning end, 1 roots, 26 extra nodes, 12 pruned nodes, max_depth=5\u001b[0m\n",
      "\u001b[34m[25]#011train-error:0.098297#011validation-error:0.104475\u001b[0m\n",
      "\u001b[34m[01:29:01] src/tree/updater_prune.cc:74: tree pruning end, 1 roots, 30 extra nodes, 10 pruned nodes, max_depth=5\u001b[0m\n",
      "\u001b[34m[26]#011train-error:0.098228#011validation-error:0.104394\u001b[0m\n",
      "\u001b[34m[01:29:01] src/tree/updater_prune.cc:74: tree pruning end, 1 roots, 10 extra nodes, 38 pruned nodes, max_depth=5\u001b[0m\n",
      "\u001b[34m[27]#011train-error:0.09795#011validation-error:0.104475\u001b[0m\n",
      "\u001b[34m[01:29:01] src/tree/updater_prune.cc:74: tree pruning end, 1 roots, 22 extra nodes, 4 pruned nodes, max_depth=5\u001b[0m\n",
      "\u001b[34m[28]#011train-error:0.098158#011validation-error:0.104556\u001b[0m\n",
      "\u001b[34m[01:29:01] src/tree/updater_prune.cc:74: tree pruning end, 1 roots, 14 extra nodes, 10 pruned nodes, max_depth=5\u001b[0m\n",
      "\u001b[34m[29]#011train-error:0.098124#011validation-error:0.104637\u001b[0m\n",
      "\u001b[34m[01:29:01] src/tree/updater_prune.cc:74: tree pruning end, 1 roots, 26 extra nodes, 18 pruned nodes, max_depth=5\u001b[0m\n",
      "\u001b[34m[30]#011train-error:0.097811#011validation-error:0.104394\u001b[0m\n",
      "\u001b[34m[01:29:01] src/tree/updater_prune.cc:74: tree pruning end, 1 roots, 14 extra nodes, 26 pruned nodes, max_depth=5\u001b[0m\n",
      "\u001b[34m[31]#011train-error:0.097742#011validation-error:0.104475\u001b[0m\n",
      "\u001b[34m[01:29:01] src/tree/updater_prune.cc:74: tree pruning end, 1 roots, 14 extra nodes, 18 pruned nodes, max_depth=5\u001b[0m\n",
      "\u001b[34m[32]#011train-error:0.097603#011validation-error:0.104718\u001b[0m\n",
      "\u001b[34m[01:29:01] src/tree/updater_prune.cc:74: tree pruning end, 1 roots, 12 extra nodes, 10 pruned nodes, max_depth=5\u001b[0m\n",
      "\u001b[34m[33]#011train-error:0.097638#011validation-error:0.104961\u001b[0m\n",
      "\u001b[34m[01:29:01] src/tree/updater_prune.cc:74: tree pruning end, 1 roots, 18 extra nodes, 12 pruned nodes, max_depth=5\u001b[0m\n",
      "\u001b[34m[34]#011train-error:0.097603#011validation-error:0.104475\u001b[0m\n",
      "\u001b[34m[01:29:01] src/tree/updater_prune.cc:74: tree pruning end, 1 roots, 34 extra nodes, 8 pruned nodes, max_depth=5\u001b[0m\n",
      "\u001b[34m[35]#011train-error:0.097673#011validation-error:0.104556\u001b[0m\n",
      "\u001b[34m[01:29:01] src/tree/updater_prune.cc:74: tree pruning end, 1 roots, 18 extra nodes, 30 pruned nodes, max_depth=5\u001b[0m\n",
      "\u001b[34m[36]#011train-error:0.097534#011validation-error:0.104799\u001b[0m\n",
      "\u001b[34m[01:29:01] src/tree/updater_prune.cc:74: tree pruning end, 1 roots, 24 extra nodes, 14 pruned nodes, max_depth=5\u001b[0m\n",
      "\u001b[34m[37]#011train-error:0.097569#011validation-error:0.10488\u001b[0m\n",
      "\u001b[34m[01:29:01] src/tree/updater_prune.cc:74: tree pruning end, 1 roots, 16 extra nodes, 18 pruned nodes, max_depth=5\u001b[0m\n",
      "\u001b[34m[38]#011train-error:0.097256#011validation-error:0.105284\u001b[0m\n",
      "\u001b[34m[01:29:01] src/tree/updater_prune.cc:74: tree pruning end, 1 roots, 22 extra nodes, 28 pruned nodes, max_depth=5\u001b[0m\n",
      "\u001b[34m[39]#011train-error:0.097152#011validation-error:0.105446\u001b[0m\n",
      "\u001b[34m[01:29:01] src/tree/updater_prune.cc:74: tree pruning end, 1 roots, 26 extra nodes, 20 pruned nodes, max_depth=5\u001b[0m\n",
      "\u001b[34m[40]#011train-error:0.097048#011validation-error:0.105689\u001b[0m\n",
      "\u001b[34m[01:29:01] src/tree/updater_prune.cc:74: tree pruning end, 1 roots, 8 extra nodes, 28 pruned nodes, max_depth=4\u001b[0m\n",
      "\u001b[34m[41]#011train-error:0.097048#011validation-error:0.105689\u001b[0m\n",
      "\u001b[34m[01:29:01] src/tree/updater_prune.cc:74: tree pruning end, 1 roots, 12 extra nodes, 16 pruned nodes, max_depth=5\u001b[0m\n",
      "\u001b[34m[42]#011train-error:0.096806#011validation-error:0.105689\u001b[0m\n",
      "\u001b[34m[01:29:01] src/tree/updater_prune.cc:74: tree pruning end, 1 roots, 14 extra nodes, 28 pruned nodes, max_depth=5\u001b[0m\n",
      "\u001b[34m[43]#011train-error:0.09691#011validation-error:0.105932\u001b[0m\n",
      "\u001b[34m[01:29:01] src/tree/updater_prune.cc:74: tree pruning end, 1 roots, 16 extra nodes, 18 pruned nodes, max_depth=5\u001b[0m\n",
      "\u001b[34m[44]#011train-error:0.096944#011validation-error:0.106013\u001b[0m\n",
      "\u001b[34m[01:29:01] src/tree/updater_prune.cc:74: tree pruning end, 1 roots, 10 extra nodes, 16 pruned nodes, max_depth=5\u001b[0m\n",
      "\u001b[34m[45]#011train-error:0.097014#011validation-error:0.105608\u001b[0m\n",
      "\u001b[34m[01:29:01] src/tree/updater_prune.cc:74: tree pruning end, 1 roots, 22 extra nodes, 24 pruned nodes, max_depth=5\u001b[0m\n",
      "\u001b[34m[46]#011train-error:0.096979#011validation-error:0.105932\u001b[0m\n",
      "\u001b[34m[01:29:01] src/tree/updater_prune.cc:74: tree pruning end, 1 roots, 20 extra nodes, 6 pruned nodes, max_depth=5\u001b[0m\n",
      "\u001b[34m[47]#011train-error:0.097256#011validation-error:0.10577\u001b[0m\n",
      "\u001b[34m[01:29:01] src/tree/updater_prune.cc:74: tree pruning end, 1 roots, 16 extra nodes, 10 pruned nodes, max_depth=5\u001b[0m\n",
      "\u001b[34m[48]#011train-error:0.097256#011validation-error:0.105204\u001b[0m\n",
      "\u001b[34m[01:29:01] src/tree/updater_prune.cc:74: tree pruning end, 1 roots, 12 extra nodes, 16 pruned nodes, max_depth=5\u001b[0m\n",
      "\u001b[34m[49]#011train-error:0.097048#011validation-error:0.105284\u001b[0m\n",
      "\n",
      "2023-12-17 01:29:18 Uploading - Uploading generated training model\n",
      "2023-12-17 01:29:18 Completed - Training job completed\n",
      "Training seconds: 82\n",
      "Billable seconds: 33\n",
      "Managed Spot Training savings: 59.8%\n"
     ]
    }
   ],
   "source": [
    "estimator.fit({'train':s3_input_train,'validation':s3_input_test})"
   ]
  },
  {
   "cell_type": "markdown",
   "id": "df27344b",
   "metadata": {},
   "source": [
    "## Deploy Machine learning Model"
   ]
  },
  {
   "cell_type": "code",
   "execution_count": 100,
   "id": "b525646b",
   "metadata": {},
   "outputs": [
    {
     "name": "stderr",
     "output_type": "stream",
     "text": [
      "INFO:sagemaker:Creating model with name: xgboost-2023-12-17-17-31-40-233\n",
      "INFO:sagemaker:Creating endpoint-config with name xgboost-2023-12-17-17-31-40-233\n",
      "INFO:sagemaker:Creating endpoint with name xgboost-2023-12-17-17-31-40-233\n"
     ]
    },
    {
     "name": "stdout",
     "output_type": "stream",
     "text": [
      "-----!"
     ]
    }
   ],
   "source": [
    "xgb_predictor = estimator.deploy(initial_instance_count=1,instance_type='ml.m4.xlarge')"
   ]
  },
  {
   "cell_type": "markdown",
   "id": "10a626c8",
   "metadata": {},
   "source": [
    "### Prediction if the Test Data"
   ]
  },
  {
   "cell_type": "code",
   "execution_count": 104,
   "id": "48478920",
   "metadata": {},
   "outputs": [],
   "source": [
    "from sagemaker.serializers import CSVSerializer"
   ]
  },
  {
   "cell_type": "code",
   "execution_count": 110,
   "id": "f083720b",
   "metadata": {},
   "outputs": [],
   "source": [
    "test_data_array= test_data.drop(['y_no','y_yes'], axis=1).values #load the data into an array\n",
    "xgb_predictor.content_type= 'text/csv' #data type for inference\n",
    "xgb_predictor.serializer = CSVSerializer() #set the serializer type\n"
   ]
  },
  {
   "cell_type": "code",
   "execution_count": 115,
   "id": "686eebb9",
   "metadata": {},
   "outputs": [
    {
     "name": "stdout",
     "output_type": "stream",
     "text": [
      "(12357,)\n"
     ]
    }
   ],
   "source": [
    "predictions= xgb_predictor.predict(test_data_array).decode('utf-8') # predict\n",
    "prediction_array= np.fromstring(predictions[1:],sep=',') # turn prediction u=into array\n",
    "print(prediction_array.shape)"
   ]
  },
  {
   "cell_type": "code",
   "execution_count": 116,
   "id": "87268844",
   "metadata": {},
   "outputs": [
    {
     "data": {
      "text/plain": [
       "array([0.05578489, 0.04585116, 0.05088526, ..., 0.03450042, 0.03321051,\n",
       "       0.03635123])"
      ]
     },
     "execution_count": 116,
     "metadata": {},
     "output_type": "execute_result"
    }
   ],
   "source": [
    "prediction_array"
   ]
  },
  {
   "cell_type": "markdown",
   "id": "9277079d",
   "metadata": {},
   "source": [
    "## Creating confusion matrix taken from AWS module"
   ]
  },
  {
   "cell_type": "code",
   "execution_count": 118,
   "id": "2563c174",
   "metadata": {},
   "outputs": [
    {
     "name": "stdout",
     "output_type": "stream",
     "text": [
      "\n",
      "Overall Classification Rate: 89.5%\n",
      "\n",
      "Predicted      No Purchase    Purchase\n",
      "Observed\n",
      "No Purchase    90% (10784)    36% (152)\n",
      "Purchase        10% (1149)     64% (272) \n",
      "\n"
     ]
    }
   ],
   "source": [
    "cm = pd.crosstab(index=test_data['y_yes'], columns=np.round(prediction_array), rownames=['Observed'], colnames=['Predicted'])\n",
    "tn = cm.iloc[0,0]; fn = cm.iloc[1,0]; tp = cm.iloc[1,1]; fp = cm.iloc[0,1]; p = (tp+tn)/(tp+tn+fp+fn)*100\n",
    "print(\"\\n{0:<20}{1:<4.1f}%\\n\".format(\"Overall Classification Rate: \", p))\n",
    "print(\"{0:<15}{1:<15}{2:>8}\".format(\"Predicted\", \"No Purchase\", \"Purchase\"))\n",
    "print(\"Observed\")\n",
    "print(\"{0:<15}{1:<2.0f}% ({2:<}){3:>6.0f}% ({4:<})\".format(\"No Purchase\", tn/(tn+fn)*100,tn, fp/(tp+fp)*100, fp))\n",
    "print(\"{0:<16}{1:<1.0f}% ({2:<}){3:>7.0f}% ({4:<}) \\n\".format(\"Purchase\", fn/(tn+fn)*100,fn, tp/(tp+fp)*100, tp))"
   ]
  },
  {
   "cell_type": "code",
   "execution_count": 125,
   "id": "7d7c067d",
   "metadata": {},
   "outputs": [],
   "source": [
    "bucket_name='examplebankapplication'"
   ]
  },
  {
   "cell_type": "markdown",
   "id": "115d04b8",
   "metadata": {},
   "source": [
    "## Deleting the the endpoints"
   ]
  },
  {
   "cell_type": "code",
   "execution_count": 126,
   "id": "ce1272af",
   "metadata": {},
   "outputs": [
    {
     "data": {
      "text/plain": [
       "[{'ResponseMetadata': {'RequestId': 'GQHC8V5XX4H2NA53',\n",
       "   'HostId': 'brAF3oS6FpVNiRF4be5m2doJcQ+Y1ZDi80+1EIe8MAwBhsz9h4gVornXqufTpUm0wUN2OkxJxv4=',\n",
       "   'HTTPStatusCode': 200,\n",
       "   'HTTPHeaders': {'x-amz-id-2': 'brAF3oS6FpVNiRF4be5m2doJcQ+Y1ZDi80+1EIe8MAwBhsz9h4gVornXqufTpUm0wUN2OkxJxv4=',\n",
       "    'x-amz-request-id': 'GQHC8V5XX4H2NA53',\n",
       "    'date': 'Sun, 17 Dec 2023 17:57:11 GMT',\n",
       "    'content-type': 'application/xml',\n",
       "    'transfer-encoding': 'chunked',\n",
       "    'server': 'AmazonS3',\n",
       "    'connection': 'close'},\n",
       "   'RetryAttempts': 0},\n",
       "  'Deleted': [{'Key': 'xgboost-as-a-built-in-algo/output/xgboost-2023-12-17-01-26-35-774/profiler-output/system/incremental/2023121701/1702776480.algo-1.json'},\n",
       "   {'Key': 'xgboost-as-a-built-in-algo/test/test_csv'},\n",
       "   {'Key': 'xgboost-as-a-built-in-algo/output/xgboost-2023-12-17-01-26-35-774/profiler-output/system/training_job_end.ts'},\n",
       "   {'Key': 'xgboost-as-a-built-in-algo/output/xgboost-2023-12-17-01-26-35-774/debug-output/training_job_end.ts'},\n",
       "   {'Key': 'xgboost-as-a-built-in-algo/output/xgboost-2023-12-17-01-26-35-774/profiler-output/framework/training_job_end.ts'},\n",
       "   {'Key': 'xgboost-as-a-built-in-algo/output/xgboost-2023-12-17-01-26-35-774/profiler-output/system/incremental/2023121701/1702776540.algo-1.json'},\n",
       "   {'Key': 'xgboost-as-a-built-in-algo/train/train_csv'},\n",
       "   {'Key': 'xgboost-as-a-built-in-algo/output/xgboost-2023-12-17-01-26-35-774/output/model.tar.gz'}]}]"
      ]
     },
     "execution_count": 126,
     "metadata": {},
     "output_type": "execute_result"
    }
   ],
   "source": [
    "#sagemaker.Session().delete_endpoint(xgb_predictor.endpoint)\n",
    "bucket_to_delete= boto3.resource('s3').Bucket(bucket_name)\n",
    "bucket_to_delete.objects.all().delete()"
   ]
  },
  {
   "cell_type": "code",
   "execution_count": null,
   "id": "92f8c924",
   "metadata": {},
   "outputs": [],
   "source": []
  }
 ],
 "metadata": {
  "kernelspec": {
   "display_name": "conda_python3",
   "language": "python",
   "name": "conda_python3"
  },
  "language_info": {
   "codemirror_mode": {
    "name": "ipython",
    "version": 3
   },
   "file_extension": ".py",
   "mimetype": "text/x-python",
   "name": "python",
   "nbconvert_exporter": "python",
   "pygments_lexer": "ipython3",
   "version": "3.10.13"
  }
 },
 "nbformat": 4,
 "nbformat_minor": 5
}
